{
 "cells": [
  {
   "cell_type": "markdown",
   "id": "bb302f8c-b824-4292-aef6-647217fe5b68",
   "metadata": {},
   "source": [
    "### In this notebook, you will:\n",
    "1. Get \"live\" data from all the visible PVTA buses\n",
    "2. Store that data into a SQLite or Parquet file\n",
    "3. Query that data using one of:\n",
    "    1. Raw SQL\n",
    "    2. A Python ORM called `Peewee`\n",
    "    3. Panda Dataframe operations"
   ]
  },
  {
   "cell_type": "markdown",
   "id": "5c807ef3-13eb-48d6-9f0d-da965dc11ec9",
   "metadata": {},
   "source": [
    "## Start with a request to the API:"
   ]
  },
  {
   "cell_type": "code",
   "execution_count": 53,
   "id": "54c1aafe-db9e-4774-8da3-9df4d3ecd317",
   "metadata": {},
   "outputs": [],
   "source": [
    "import requests\n",
    "response = requests.get(\"https://bustracker.pvta.com/InfoPoint/rest/routes/getvisibleroutes\")"
   ]
  },
  {
   "cell_type": "markdown",
   "id": "3d2aa7dc-bd48-4a64-8474-d7a4109b8f77",
   "metadata": {},
   "source": [
    "### Now we extract the list of vehicles:"
   ]
  },
  {
   "cell_type": "code",
   "execution_count": 54,
   "id": "8342d56a-eb23-460b-8e07-6817ebc5b9b6",
   "metadata": {},
   "outputs": [],
   "source": [
    "routes = (rt for rt in response.json())\n",
    "vehicles = [v for rt in routes for v in rt['Vehicles']]"
   ]
  },
  {
   "cell_type": "markdown",
   "id": "f6ab6ad1-fb55-4537-ab9f-14fb39883013",
   "metadata": {},
   "source": [
    "### It's useful to convert the `LastUpdated` field into this format:"
   ]
  },
  {
   "cell_type": "code",
   "execution_count": 55,
   "id": "5e0736a4-80e6-43cc-8484-07b9f3650236",
   "metadata": {},
   "outputs": [
    {
     "data": {
      "text/plain": [
       "[{'BlockFareboxId': 65,\n",
       "  'CommStatus': 'GOOD',\n",
       "  'Destination': 'Chicopee Big Y',\n",
       "  'Deviation': 0,\n",
       "  'Direction': 'N',\n",
       "  'DirectionLong': 'Northbound',\n",
       "  'DisplayStatus': 'On Time',\n",
       "  'StopId': 6351,\n",
       "  'CurrentStatus': None,\n",
       "  'DriverName': None,\n",
       "  'DriverLastName': None,\n",
       "  'DriverFirstName': None,\n",
       "  'DriverFareboxId': 0,\n",
       "  'VehicleFareboxId': 1653,\n",
       "  'GPSStatus': 2,\n",
       "  'Heading': 92,\n",
       "  'LastStop': 'Front / Cyman',\n",
       "  'LastUpdated': '/Date(1712866260000-0400)/',\n",
       "  'Latitude': 42.148017,\n",
       "  'Longitude': -72.593896,\n",
       "  'Name': '1653',\n",
       "  'OccupancyStatus': 1,\n",
       "  'OnBoard': 6,\n",
       "  'OpStatus': 'ONTIME',\n",
       "  'RouteId': 20001,\n",
       "  'RunId': 1557285,\n",
       "  'Speed': None,\n",
       "  'TripId': 1555,\n",
       "  'VehicleId': 1653,\n",
       "  'SeatingCapacity': 40,\n",
       "  'TotalCapacity': 50,\n",
       "  'PropertyName': 'SATCO',\n",
       "  'OccupancyStatusReportLabel': 'Many Seats Available',\n",
       "  'LastUpdated_timestamp_ms': '1712866260000'}]"
      ]
     },
     "execution_count": 55,
     "metadata": {},
     "output_type": "execute_result"
    }
   ],
   "source": [
    "import re\n",
    "import datetime\n",
    "for v in vehicles:\n",
    "    timestamp_ms = re.search(r'\\d+', v['LastUpdated']).group()[:]\n",
    "    v['LastUpdated_timestamp_ms'] = timestamp_ms\n",
    "# Printing just one vehicle's data, see the peewee model below for more info on each field:\n",
    "vehicles[:1]"
   ]
  },
  {
   "cell_type": "markdown",
   "id": "d50f6918-e39e-4b94-b969-d04a97628a40",
   "metadata": {},
   "source": [
    "### Approach 1: SQLite with Peewee"
   ]
  },
  {
   "cell_type": "code",
   "execution_count": 56,
   "id": "4d917649-b35a-410f-a1bf-9cdae7e57a97",
   "metadata": {},
   "outputs": [],
   "source": [
    "# First, let's create a DB file if it does not exist already:\n",
    "with open('pvta-sqlite-data.sqlite', 'a+') as f:\n",
    "    pass"
   ]
  },
  {
   "cell_type": "code",
   "execution_count": 57,
   "id": "3a1a0c39-6747-44d3-8117-036718b9e16c",
   "metadata": {},
   "outputs": [],
   "source": [
    "# Now, create the peewee sqlite model:\n",
    "import json, re, peewee\n",
    "import datetime\n",
    "from peewee import Model, CharField, DoubleField, IntegerField, DateTimeField\n",
    "\n",
    "db = peewee.SqliteDatabase(\"pvta-sqlite-data.sqlite\")\n",
    "\n",
    "class VehiclePositionRecord(Model):\n",
    "    # Different values, but both appear to ID a vehicle:\n",
    "    Name =  CharField()\n",
    "    VehicleId = IntegerField()\n",
    "    # Position info:\n",
    "    Latitude = DoubleField()\n",
    "    Longitude = DoubleField()\n",
    "    # Time info:\n",
    "    LastUpdated = DateTimeField()\n",
    "    # Ex: 10043 for the B43\n",
    "    RouteId = IntegerField()\n",
    "    # Lateness in minutes. (Could be more precise by retreiving the schedule data, but still useful)\n",
    "    Deviation = IntegerField()\n",
    "    # NOT UNIQUE; RunId seems to update everytime the vehicle starts running for the day (or leaves the garage?)\n",
    "    RunId = IntegerField()\n",
    "    # NOT UNIQUE; updated everytime the vehicle starts moving from the 1st stop in a route. The value is simply the scheduled time (7am -> 700)\n",
    "    TripId = IntegerField()\n",
    "    # Other useful info\n",
    "    Direction =  CharField()\n",
    "    Destination = CharField()\n",
    "    LastStop = CharField(null = True)\n",
    "\n",
    "    # Not too important, a lot of these are NULL:\n",
    "    OpStatus = CharField(null = True)\n",
    "    Heading = IntegerField(null = True)\n",
    "    OnBoard = IntegerField(null = True)\n",
    "    TotalCapacity = IntegerField(null = True)\n",
    "    BlockFareboxId = IntegerField(null = True)\n",
    "    CommStatus =  CharField(null = True)\n",
    "    OccupancyStatus = IntegerField(null = True)\n",
    "    DirectionLong =  CharField(null = True)\n",
    "    DisplayStatus =  CharField(null = True)\n",
    "    DriverFareboxId = IntegerField(null = True)\n",
    "    VehicleFareboxId = IntegerField(null = True)\n",
    "    GPSStatus = IntegerField(null = True)\n",
    "    SeatingCapacity = IntegerField(null = True)\n",
    "    PropertyName =  CharField(null = True)\n",
    "    OccupancyStatusReportLabel =  CharField(null = True)\n",
    "    StopId = IntegerField(null = True)\n",
    "\n",
    "    class Meta:\n",
    "        database = db\n",
    "        # This prevents having two records of the same vehicle at the same time\n",
    "        indexes = (\n",
    "          (('LastUpdated', 'VehicleId'), True),\n",
    "        )"
   ]
  },
  {
   "cell_type": "code",
   "execution_count": 58,
   "id": "193c458f-25cf-48e8-9d48-f764b29af398",
   "metadata": {},
   "outputs": [],
   "source": [
    "# Needed for first run, doesn't matter if you run this or not afterwards. Initialize tables:\n",
    "db.create_tables([VehiclePositionRecord], safe = True)\n"
   ]
  },
  {
   "cell_type": "markdown",
   "id": "91e1abe5-babb-4f2e-907c-6708a6574d8a",
   "metadata": {},
   "source": [
    "#### Saving the vehicle records to the database:"
   ]
  },
  {
   "cell_type": "code",
   "execution_count": null,
   "id": "6fc6d465-78db-451a-afdc-531776e317f6",
   "metadata": {},
   "outputs": [],
   "source": [
    "# Add the vehicles:\n",
    "for v in vehicles:\n",
    "    vehicle_record = VehiclePositionRecord(\n",
    "            Name=v['Name'],\n",
    "            VehicleId=v['VehicleId'],\n",
    "            Latitude=v['Latitude'],\n",
    "            Longitude=v['Longitude'],\n",
    "            # the '-3' removes the last 3 digits, converting milliseconds->seconds\n",
    "            LastUpdated=datetime.datetime.fromtimestamp(int(re.search(r'\\d+', v['LastUpdated_timestamp_ms']).group()[:-3])),\n",
    "            RouteId=v['RouteId'],\n",
    "            Direction=v['Direction'],\n",
    "            Destination=v['Destination'],\n",
    "            Deviation=v['Deviation'],\n",
    "            RunId=v['RunId'],\n",
    "            TripId=v['TripId'],\n",
    "            LastStop=v['LastStop'],\n",
    "            OpStatus=v['OpStatus'],\n",
    "            Heading=v['Heading'],\n",
    "            OnBoard=v['OnBoard'],\n",
    "            TotalCapacity=v['TotalCapacity'],\n",
    "            BlockFareboxId=v['BlockFareboxId'],\n",
    "            CommStatus=v['CommStatus'],\n",
    "            OccupancyStatus=v['OccupancyStatus'],\n",
    "            DirectionLong=v['DirectionLong'],\n",
    "            DisplayStatus=v['DisplayStatus'],\n",
    "            DriverFareboxId=v['DriverFareboxId'],\n",
    "            VehicleFareboxId=v['VehicleFareboxId'],\n",
    "            GPSStatus=v['GPSStatus'],\n",
    "            SeatingCapacity=v['SeatingCapacity'],\n",
    "            PropertyName=v['PropertyName'],\n",
    "            OccupancyStatusReportLabel=v['OccupancyStatusReportLabel'],\n",
    "            StopId=v['StopId']\n",
    "        )\n",
    "    vehicle_record.save()"
   ]
  },
  {
   "cell_type": "markdown",
   "id": "618b131d-3934-4a8b-abc1-000493fc6c5e",
   "metadata": {},
   "source": [
    "#### Let's select B43 buses, going west, since 9pm April 10th:"
   ]
  },
  {
   "cell_type": "code",
   "execution_count": 36,
   "id": "2b8f73d0-ce28-4598-a10e-899f5c5a98ce",
   "metadata": {},
   "outputs": [
    {
     "name": "stdout",
     "output_type": "stream",
     "text": [
      "\n",
      "2024-04-10 21:31:27 1545622 701 Prospect Street W\n",
      "\n",
      "\n",
      "2024-04-10 21:31:28 1545613 502 Haigis Mall W\n",
      "\n",
      "\n",
      "2024-04-10 21:46:43 1545622 701 Prospect Street W\n",
      "\n",
      "\n",
      "2024-04-10 21:48:19 1545613 502 Russell/Russell (The Stables) W\n",
      "\n",
      "\n",
      "2024-04-11 16:01:27 1545616 701 Russell/Rte 9 (Holiday Inn Express) W\n",
      "\n",
      "\n",
      "2024-04-11 16:01:29 1545610 412 Fearing Street (In) W\n",
      "\n"
     ]
    }
   ],
   "source": [
    "start_date = datetime.datetime(2024, 4, 10, 21)\n",
    "end_date = datetime.datetime.now()\n",
    "\n",
    "s = VehiclePositionRecord.select().where(VehiclePositionRecord.RouteId == 10043)\n",
    "# Constraints can be chained separately or together using '&' (AND) or '|' (OR)\n",
    "s = s.where(\n",
    "    (VehiclePositionRecord.Direction == 'W') & \n",
    "    (VehiclePositionRecord.LastUpdated.between(start_date, end_date))\n",
    ")\n",
    "\n",
    "for vRecord in s:\n",
    "    print()\n",
    "    print(vRecord.LastUpdated, vRecord.RunId, vRecord.VehicleId, vRecord.LastStop, vRecord.Direction)\n",
    "    print()"
   ]
  },
  {
   "cell_type": "markdown",
   "id": "4bc1d545-cb8e-47cd-856f-a0c1336b0c42",
   "metadata": {},
   "source": [
    "#### Let's show the percentage of B43 buses over 5 minutes late:"
   ]
  },
  {
   "cell_type": "code",
   "execution_count": 52,
   "id": "9a91ea6a-67d2-48c4-911f-143bb7898af5",
   "metadata": {},
   "outputs": [
    {
     "data": {
      "text/plain": [
       "9.090909090909092"
      ]
     },
     "execution_count": 52,
     "metadata": {},
     "output_type": "execute_result"
    }
   ],
   "source": [
    "five_mins_late = VehiclePositionRecord.select().where(VehiclePositionRecord.RouteId == 10043).where(VehiclePositionRecord.Deviation > 5)\n",
    "all_b43 = VehiclePositionRecord.select().where(VehiclePositionRecord.RouteId == 10043)\n",
    "# Could be 0 if you don't have enough data, it was around 18% on my copy with ~170k records.\n",
    "(five_mins_late.count() / all_b43.count()) * 100"
   ]
  },
  {
   "cell_type": "markdown",
   "id": "950ecbf5-8aa9-4a39-b94d-9914264c2d6d",
   "metadata": {},
   "source": [
    "Since all the data is in a `sqlite` file, you can also use sqlite to query the data"
   ]
  },
  {
   "cell_type": "markdown",
   "id": "0024ff04-b327-4b05-ab40-759e6e22647b",
   "metadata": {
    "jp-MarkdownHeadingCollapsed": true
   },
   "source": [
    "### Approach 2: Pandas"
   ]
  },
  {
   "cell_type": "code",
   "execution_count": 38,
   "id": "f4afa422-2ab4-4c8f-8aa5-be86149a026d",
   "metadata": {},
   "outputs": [],
   "source": [
    "# First, create a dataframe from the vehicles list:\n",
    "import pandas as pd\n",
    "import json\n",
    "df = pd.read_json(json.dumps(vehicles))\n",
    "\n",
    "# Add a datetime column for easier querying of the `LastUpdated` field:\n",
    "df['LastUpdated_datetime'] = pd.to_datetime(df['LastUpdated_timestamp_ms'], unit='ms')"
   ]
  },
  {
   "cell_type": "code",
   "execution_count": 39,
   "id": "b647e173-2899-4d5e-880a-3f5f4bf99814",
   "metadata": {},
   "outputs": [
    {
     "data": {
      "text/html": [
       "<div>\n",
       "<style scoped>\n",
       "    .dataframe tbody tr th:only-of-type {\n",
       "        vertical-align: middle;\n",
       "    }\n",
       "\n",
       "    .dataframe tbody tr th {\n",
       "        vertical-align: top;\n",
       "    }\n",
       "\n",
       "    .dataframe thead th {\n",
       "        text-align: right;\n",
       "    }\n",
       "</style>\n",
       "<table border=\"1\" class=\"dataframe\">\n",
       "  <thead>\n",
       "    <tr style=\"text-align: right;\">\n",
       "      <th></th>\n",
       "      <th>BlockFareboxId</th>\n",
       "      <th>CommStatus</th>\n",
       "      <th>Destination</th>\n",
       "      <th>Deviation</th>\n",
       "      <th>Direction</th>\n",
       "      <th>DirectionLong</th>\n",
       "      <th>DisplayStatus</th>\n",
       "      <th>StopId</th>\n",
       "      <th>CurrentStatus</th>\n",
       "      <th>DriverName</th>\n",
       "      <th>...</th>\n",
       "      <th>RunId</th>\n",
       "      <th>Speed</th>\n",
       "      <th>TripId</th>\n",
       "      <th>VehicleId</th>\n",
       "      <th>SeatingCapacity</th>\n",
       "      <th>TotalCapacity</th>\n",
       "      <th>PropertyName</th>\n",
       "      <th>OccupancyStatusReportLabel</th>\n",
       "      <th>LastUpdated_timestamp_ms</th>\n",
       "      <th>LastUpdated_datetime</th>\n",
       "    </tr>\n",
       "  </thead>\n",
       "  <tbody>\n",
       "    <tr>\n",
       "      <th>82</th>\n",
       "      <td>4308</td>\n",
       "      <td>GOOD</td>\n",
       "      <td>Amherst College via UMass</td>\n",
       "      <td>1</td>\n",
       "      <td>E</td>\n",
       "      <td>East</td>\n",
       "      <td>On Time</td>\n",
       "      <td>0</td>\n",
       "      <td>NaN</td>\n",
       "      <td>NaN</td>\n",
       "      <td>...</td>\n",
       "      <td>1545622</td>\n",
       "      <td>NaN</td>\n",
       "      <td>1540</td>\n",
       "      <td>411</td>\n",
       "      <td>40</td>\n",
       "      <td>56</td>\n",
       "      <td>VATCO</td>\n",
       "      <td>Many Seats Available</td>\n",
       "      <td>1712865684000</td>\n",
       "      <td>2024-04-11 20:01:24</td>\n",
       "    </tr>\n",
       "    <tr>\n",
       "      <th>83</th>\n",
       "      <td>4303</td>\n",
       "      <td>GOOD</td>\n",
       "      <td>Amherst College via UMass</td>\n",
       "      <td>0</td>\n",
       "      <td>E</td>\n",
       "      <td>East</td>\n",
       "      <td>On Time</td>\n",
       "      <td>0</td>\n",
       "      <td>NaN</td>\n",
       "      <td>NaN</td>\n",
       "      <td>...</td>\n",
       "      <td>1545608</td>\n",
       "      <td>NaN</td>\n",
       "      <td>1520</td>\n",
       "      <td>501</td>\n",
       "      <td>49</td>\n",
       "      <td>69</td>\n",
       "      <td>VATCO</td>\n",
       "      <td>Many Seats Available</td>\n",
       "      <td>1712865685000</td>\n",
       "      <td>2024-04-11 20:01:25</td>\n",
       "    </tr>\n",
       "    <tr>\n",
       "      <th>84</th>\n",
       "      <td>4304</td>\n",
       "      <td>GOOD</td>\n",
       "      <td>Northampton via Hampshire Mall</td>\n",
       "      <td>6</td>\n",
       "      <td>W</td>\n",
       "      <td>West</td>\n",
       "      <td>Late</td>\n",
       "      <td>0</td>\n",
       "      <td>NaN</td>\n",
       "      <td>NaN</td>\n",
       "      <td>...</td>\n",
       "      <td>1545616</td>\n",
       "      <td>NaN</td>\n",
       "      <td>1530</td>\n",
       "      <td>701</td>\n",
       "      <td>40</td>\n",
       "      <td>56</td>\n",
       "      <td>VATCO</td>\n",
       "      <td>Many Seats Available</td>\n",
       "      <td>1712865687000</td>\n",
       "      <td>2024-04-11 20:01:27</td>\n",
       "    </tr>\n",
       "    <tr>\n",
       "      <th>85</th>\n",
       "      <td>4309</td>\n",
       "      <td>GOOD</td>\n",
       "      <td>Northampton via Hampshire Mall</td>\n",
       "      <td>0</td>\n",
       "      <td>W</td>\n",
       "      <td>West</td>\n",
       "      <td>On Time</td>\n",
       "      <td>0</td>\n",
       "      <td>NaN</td>\n",
       "      <td>NaN</td>\n",
       "      <td>...</td>\n",
       "      <td>1545610</td>\n",
       "      <td>NaN</td>\n",
       "      <td>1550</td>\n",
       "      <td>412</td>\n",
       "      <td>40</td>\n",
       "      <td>56</td>\n",
       "      <td>VATCO</td>\n",
       "      <td>Many Seats Available</td>\n",
       "      <td>1712865689000</td>\n",
       "      <td>2024-04-11 20:01:29</td>\n",
       "    </tr>\n",
       "    <tr>\n",
       "      <th>86</th>\n",
       "      <td>4305</td>\n",
       "      <td>GOOD</td>\n",
       "      <td>Amherst College via UMass</td>\n",
       "      <td>1</td>\n",
       "      <td>E</td>\n",
       "      <td>East</td>\n",
       "      <td>On Time</td>\n",
       "      <td>0</td>\n",
       "      <td>NaN</td>\n",
       "      <td>NaN</td>\n",
       "      <td>...</td>\n",
       "      <td>1545620</td>\n",
       "      <td>NaN</td>\n",
       "      <td>1600</td>\n",
       "      <td>419</td>\n",
       "      <td>40</td>\n",
       "      <td>56</td>\n",
       "      <td>VATCO</td>\n",
       "      <td>Many Seats Available</td>\n",
       "      <td>1712865696000</td>\n",
       "      <td>2024-04-11 20:01:36</td>\n",
       "    </tr>\n",
       "  </tbody>\n",
       "</table>\n",
       "<p>5 rows × 35 columns</p>\n",
       "</div>"
      ],
      "text/plain": [
       "    BlockFareboxId CommStatus                     Destination  Deviation  \\\n",
       "82            4308       GOOD       Amherst College via UMass          1   \n",
       "83            4303       GOOD       Amherst College via UMass          0   \n",
       "84            4304       GOOD  Northampton via Hampshire Mall          6   \n",
       "85            4309       GOOD  Northampton via Hampshire Mall          0   \n",
       "86            4305       GOOD       Amherst College via UMass          1   \n",
       "\n",
       "   Direction DirectionLong DisplayStatus  StopId  CurrentStatus  DriverName  \\\n",
       "82         E          East       On Time       0            NaN         NaN   \n",
       "83         E          East       On Time       0            NaN         NaN   \n",
       "84         W          West          Late       0            NaN         NaN   \n",
       "85         W          West       On Time       0            NaN         NaN   \n",
       "86         E          East       On Time       0            NaN         NaN   \n",
       "\n",
       "    ...    RunId  Speed  TripId  VehicleId  SeatingCapacity  TotalCapacity  \\\n",
       "82  ...  1545622    NaN    1540        411               40             56   \n",
       "83  ...  1545608    NaN    1520        501               49             69   \n",
       "84  ...  1545616    NaN    1530        701               40             56   \n",
       "85  ...  1545610    NaN    1550        412               40             56   \n",
       "86  ...  1545620    NaN    1600        419               40             56   \n",
       "\n",
       "   PropertyName OccupancyStatusReportLabel  LastUpdated_timestamp_ms  \\\n",
       "82        VATCO       Many Seats Available             1712865684000   \n",
       "83        VATCO       Many Seats Available             1712865685000   \n",
       "84        VATCO       Many Seats Available             1712865687000   \n",
       "85        VATCO       Many Seats Available             1712865689000   \n",
       "86        VATCO       Many Seats Available             1712865696000   \n",
       "\n",
       "    LastUpdated_datetime  \n",
       "82   2024-04-11 20:01:24  \n",
       "83   2024-04-11 20:01:25  \n",
       "84   2024-04-11 20:01:27  \n",
       "85   2024-04-11 20:01:29  \n",
       "86   2024-04-11 20:01:36  \n",
       "\n",
       "[5 rows x 35 columns]"
      ]
     },
     "execution_count": 39,
     "metadata": {},
     "output_type": "execute_result"
    }
   ],
   "source": [
    "# Let's show rows from the B43:\n",
    "df[df['RouteId'] == 10043]"
   ]
  },
  {
   "cell_type": "markdown",
   "id": "7adae197-3ce9-4a90-a8d3-c87bf3181257",
   "metadata": {},
   "source": [
    "#### Append the pandas data to a parquet file:"
   ]
  },
  {
   "cell_type": "code",
   "execution_count": 43,
   "id": "69a30f1e-29e5-4639-b92b-2b50b0375f56",
   "metadata": {},
   "outputs": [],
   "source": [
    "# Creates file if not already existing:\n",
    "try:\n",
    "    old_df = pd.read_parquet('pvta-parquet-data.parquet')\n",
    "    df = pd.concat([df, old_df])\n",
    "except FileNotFoundError:\n",
    "    pass\n",
    "df.to_parquet('pvta-parquet-data.parquet')"
   ]
  },
  {
   "cell_type": "code",
   "execution_count": null,
   "id": "e9e36b11-b787-4474-876b-6f4471ea36fa",
   "metadata": {},
   "outputs": [],
   "source": [
    "#TODO: select buses in a particular time frame."
   ]
  }
 ],
 "metadata": {
  "kernelspec": {
   "display_name": "Python 3 (ipykernel)",
   "language": "python",
   "name": "python3"
  },
  "language_info": {
   "codemirror_mode": {
    "name": "ipython",
    "version": 3
   },
   "file_extension": ".py",
   "mimetype": "text/x-python",
   "name": "python",
   "nbconvert_exporter": "python",
   "pygments_lexer": "ipython3",
   "version": "3.8.10"
  }
 },
 "nbformat": 4,
 "nbformat_minor": 5
}
